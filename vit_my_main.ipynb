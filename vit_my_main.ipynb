{
 "cells": [
  {
   "cell_type": "markdown",
   "id": "9fb991b6",
   "metadata": {},
   "source": [
    "# ViT Test\n",
    "> by. alex @ 10/18/2025\n",
    "\n",
    "> ref-link: https://github.com/google-research/vision_transformer.git"
   ]
  },
  {
   "cell_type": "markdown",
   "id": "c149d85e",
   "metadata": {},
   "source": [
    "# Test-1\n",
    "- date: 10/18\n",
    "\n",
    "ENV\n",
    "```\n",
    "(env4vit) root@I2477f8a6210020128d:~/Essay-Hy-FPCIM# nvidia-smi\n",
    "Sun Oct 19 05:02:21 2025       \n",
    "+---------------------------------------------------------------------------------------+\n",
    "| NVIDIA-SMI 535.161.08             Driver Version: 535.161.08   CUDA Version: 12.2     |\n",
    "|-----------------------------------------+----------------------+----------------------+\n",
    "| GPU  Name                 Persistence-M | Bus-Id        Disp.A | Volatile Uncorr. ECC |\n",
    "| Fan  Temp   Perf          Pwr:Usage/Cap |         Memory-Usage | GPU-Util  Compute M. |\n",
    "|                                         |                      |               MIG M. |\n",
    "|=========================================+======================+======================|\n",
    "|   0  NVIDIA GeForce RTX 3090        On  | 00000000:C4:00.0 Off |                  N/A |\n",
    "| 30%   26C    P8              24W / 350W |      1MiB / 24576MiB |      0%      Default |\n",
    "|                                         |                      |                  N/A |\n",
    "+-----------------------------------------+----------------------+----------------------+\n",
    "                                                                                         \n",
    "+---------------------------------------------------------------------------------------+\n",
    "| Processes:                                                                            |\n",
    "|  GPU   GI   CI        PID   Type   Process name                            GPU Memory |\n",
    "|        ID   ID                                                             Usage      |\n",
    "|=======================================================================================|\n",
    "|  No running processes found                                                           |\n",
    "+---------------------------------------------------------------------------------------+\n",
    "(env4vit) root@I2477f8a6210020128d:~/Essay-Hy-FPCIM# conda --version\n",
    "conda 24.7.1\n",
    "(env4vit) root@I2477f8a6210020128d:~/Essay-Hy-FPCIM# python --version\n",
    "Python 3.11.13\n",
    "(env4vit) root@I2477f8a6210020128d:~/Essay-Hy-FPCIM# \n",
    "```"
   ]
  },
  {
   "cell_type": "code",
   "execution_count": null,
   "id": "9e49338e",
   "metadata": {},
   "outputs": [],
   "source": [
    "import torch\n",
    "print(torch.cuda.is_available())\n",
    "print(torch.version.cuda)"
   ]
  }
 ],
 "metadata": {
  "language_info": {
   "name": "python"
  }
 },
 "nbformat": 4,
 "nbformat_minor": 5
}
