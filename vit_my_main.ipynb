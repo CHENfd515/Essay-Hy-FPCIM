{
 "cells": [
  {
   "cell_type": "markdown",
   "id": "9fb991b6",
   "metadata": {},
   "source": [
    "# ViT Test\n",
    "> by. alex @ 10/18/2025\n",
    "\n",
    "> ref-link: https://github.com/google-research/vision_transformer.git\n",
    "\n",
    "they used tensorflow framework\n",
    "```\n",
    "git clone https://github.com/CHENfd515/Essay-Hy-FPCIM.git\n",
    "cd Essay-Hy-FPCIM\n",
    "git submodule init\n",
    "git submodule update\n",
    "```"
   ]
  },
  {
   "cell_type": "markdown",
   "id": "bc092116",
   "metadata": {},
   "source": [
    "## Env Vaild\n",
    "1. run\n",
    "```\n",
    "pip install psutil\n",
    "conda create -n vit\n",
    "conda activate vit\n",
    "```\n",
    "then kernel should be the same as virtual env **vit**\n",
    "\n",
    "2. commit those three lines in **requirements.txt**\n",
    "```\n",
    "# git+https://github.com/google/flaxformer\n",
    "# jax[cuda11_cudnn86]>=0.4.2\n",
    "# --find-links https://storage.googleapis.com/jax-releases/jax_cuda_releases.html\n",
    "```\n",
    "3. run\n",
    "```\n",
    "pip install jax==0.7.1\n",
    "pip install -r vision_transformer/vit_jax/requirements.txt\n",
    "```"
   ]
  },
  {
   "cell_type": "code",
   "execution_count": 7,
   "id": "14add319",
   "metadata": {},
   "outputs": [
    {
     "name": "stdout",
     "output_type": "stream",
     "text": [
      "--- CPU & Memory Information ---\n",
      "Total CPU Cores (Logical): 32\n",
      "CPU Frequency: 1540.54 Mhz\n"
     ]
    },
    {
     "name": "stdout",
     "output_type": "stream",
     "text": [
      "CPU Usage (1s Avg): 0.3%\n",
      "Total RAM: 125.66 GB\n",
      "Available RAM: 121.50 GB\n"
     ]
    }
   ],
   "source": [
    "import psutil\n",
    "\n",
    "print(\"--- CPU & Memory Information ---\")\n",
    "\n",
    "# CPU 核心数 (逻辑核心)\n",
    "print(f\"Total CPU Cores (Logical): {psutil.cpu_count(logical=True)}\")\n",
    "\n",
    "# CPU 频率\n",
    "cpu_freq = psutil.cpu_freq()\n",
    "print(f\"CPU Frequency: {cpu_freq.current:.2f} Mhz\")\n",
    "\n",
    "# CPU 使用率 (在 1 秒内采集)\n",
    "print(f\"CPU Usage (1s Avg): {psutil.cpu_percent(interval=1)}%\")\n",
    "\n",
    "# 内存信息\n",
    "memory = psutil.virtual_memory()\n",
    "print(f\"Total RAM: {memory.total / (1024**3):.2f} GB\")\n",
    "print(f\"Available RAM: {memory.available / (1024**3):.2f} GB\")"
   ]
  },
  {
   "cell_type": "code",
   "execution_count": 8,
   "id": "a209961a",
   "metadata": {},
   "outputs": [
    {
     "name": "stdout",
     "output_type": "stream",
     "text": [
      "\n",
      "--- Environment Information ---\n",
      "Python Version: 3.13.7 | packaged by Anaconda, Inc. | (main, Sep  9 2025, 19:59:03) [GCC 11.2.0]\n",
      "OS Platform: Linux-5.15.0-157-generic-x86_64-with-glibc2.35\n",
      "Current Conda/Virtual Env: base\n",
      "Python Executable Path: /usr/local/miniconda3/bin/python\n"
     ]
    }
   ],
   "source": [
    "import sys\n",
    "import platform\n",
    "import os\n",
    "\n",
    "print(\"\\n--- Environment Information ---\")\n",
    "\n",
    "# Python 版本\n",
    "print(f\"Python Version: {sys.version}\")\n",
    "\n",
    "# 操作系统信息\n",
    "print(f\"OS Platform: {platform.platform()}\")\n",
    "\n",
    "# 当前的 Conda/虚拟环境名称\n",
    "# Conda 会设置 CONDA_PREFIX 环境变量\n",
    "conda_env = os.environ.get('CONDA_DEFAULT_ENV') or os.environ.get('CONDA_PREFIX')\n",
    "if conda_env:\n",
    "    # 只显示环境名称\n",
    "    env_name = os.path.basename(conda_env) if os.path.isabs(conda_env) else conda_env\n",
    "    print(f\"Current Conda/Virtual Env: {env_name}\")\n",
    "else:\n",
    "    print(\"Current Conda/Virtual Env: Not active (or base env)\")\n",
    "\n",
    "# Python 可执行文件路径\n",
    "print(f\"Python Executable Path: {sys.executable}\")"
   ]
  },
  {
   "cell_type": "code",
   "execution_count": 9,
   "id": "79187b31",
   "metadata": {},
   "outputs": [
    {
     "name": "stdout",
     "output_type": "stream",
     "text": [
      "\n",
      "--- Checking Conda Version (conda --version) ---\n"
     ]
    },
    {
     "name": "stdout",
     "output_type": "stream",
     "text": [
      "Success:\n",
      "conda 25.3.1\n",
      "\n",
      "--- Checking NVIDIA System Management (nvidia-smi) ---\n",
      "Success:\n",
      "Sun Oct 19 07:30:18 2025       \n",
      "+-----------------------------------------------------------------------------------------+\n",
      "| NVIDIA-SMI 570.195.03             Driver Version: 570.195.03     CUDA Version: 12.8     |\n",
      "|-----------------------------------------+------------------------+----------------------+\n",
      "| GPU  Name                 Persistence-M | Bus-Id          Disp.A | Volatile Uncorr. ECC |\n",
      "| Fan  Temp   Perf          Pwr:Usage/Cap |           Memory-Usage | GPU-Util  Compute M. |\n",
      "|                                         |                        |               MIG M. |\n",
      "|=========================================+========================+======================|\n",
      "|   0  NVIDIA GeForce RTX 5090        On  |   00000000:41:00.0 Off |                  N/A |\n",
      "|  0%   50C    P8             14W /  600W |       2MiB /  32607MiB |      0%      Default |\n",
      "|                                         |                        |                  N/A |\n",
      "+-----------------------------------------+------------------------+----------------------+\n",
      "                                                                                         \n",
      "+-----------------------------------------------------------------------------------------+\n",
      "| Processes:                                                                              |\n",
      "|  GPU   GI   CI              PID   Type   Process name                        GPU Memory |\n",
      "|        ID   ID                                                               Usage      |\n",
      "|=========================================================================================|\n",
      "|  No running processes found                                                             |\n",
      "+-----------------------------------------------------------------------------------------+\n"
     ]
    }
   ],
   "source": [
    "import subprocess\n",
    "import shlex\n",
    "import sys\n",
    "\n",
    "def run_command(command, command_name):\n",
    "    \"\"\"通用命令执行函数，封装了错误处理\"\"\"\n",
    "    print(f\"\\n--- Checking {command_name} ({command}) ---\")\n",
    "    \n",
    "    try:\n",
    "        # 使用 shlex.split 安全分割命令\n",
    "        result = subprocess.run(\n",
    "            shlex.split(command), \n",
    "            capture_output=True, \n",
    "            text=True, \n",
    "            check=True\n",
    "        )\n",
    "        print(\"Success:\")\n",
    "        # 打印 stdout，对于 nvidia-smi 打印全部，对于 conda --version 打印一行\n",
    "        print(result.stdout.strip())\n",
    "        \n",
    "    except FileNotFoundError:\n",
    "        print(f\"Error: '{command.split()[0]}' command not found. Please check if it is installed and added to PATH.\")\n",
    "    except subprocess.CalledProcessError as e:\n",
    "        print(f\"Error executing '{command}' (Exit Code {e.returncode}):\")\n",
    "        # 打印 stderr，通常包含错误信息\n",
    "        print(e.stderr.strip())\n",
    "    except Exception as e:\n",
    "        print(f\"An unexpected error occurred: {e}\")\n",
    "\n",
    "run_command(\"conda --version\", \"Conda Version\")\n",
    "run_command(\"nvidia-smi\", \"NVIDIA System Management\")"
   ]
  },
  {
   "cell_type": "markdown",
   "id": "04bca870",
   "metadata": {},
   "source": [
    "4. download jax from [jax_cuda_releases](https://storage.googleapis.com/jax-releases/jax_cuda_releases.html) \\\n",
    "eg. *cuda11/jaxlib-0.4.25+cuda11.cudnn86-cp311-cp311-manylinux2014_x86_64.whl* for *cp311 (Python 3.11)*\n",
    "```\n",
    "pip install lib/jaxlib-0.4.25+cuda11.cudnn86-cp311-cp311-manylinux2014_x86_64.whl\n",
    "python lib/check_env.py\n",
    "```"
   ]
  },
  {
   "cell_type": "markdown",
   "id": "c149d85e",
   "metadata": {},
   "source": [
    "## Try-1\n",
    "> Data Distribution"
   ]
  },
  {
   "cell_type": "code",
   "execution_count": null,
   "id": "8f8f5911",
   "metadata": {},
   "outputs": [],
   "source": []
  }
 ],
 "metadata": {
  "kernelspec": {
   "display_name": "base",
   "language": "python",
   "name": "python3"
  },
  "language_info": {
   "codemirror_mode": {
    "name": "ipython",
    "version": 3
   },
   "file_extension": ".py",
   "mimetype": "text/x-python",
   "name": "python",
   "nbconvert_exporter": "python",
   "pygments_lexer": "ipython3",
   "version": "3.13.7"
  }
 },
 "nbformat": 4,
 "nbformat_minor": 5
}
