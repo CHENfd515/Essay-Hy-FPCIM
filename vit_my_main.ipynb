{
 "cells": [
  {
   "cell_type": "markdown",
   "id": "9fb991b6",
   "metadata": {},
   "source": [
    "# ViT Test\n",
    "> by. alex @ 10/18/2025\n",
    "\n",
    "> ref-link: https://github.com/google-research/vision_transformer.git"
   ]
  },
  {
   "cell_type": "markdown",
   "id": "9e49338e",
   "metadata": {},
   "source": [
    "import torch\n",
    "print(torch.cuda.is_available())\n",
    "print(torch.version.cuda)"
   ]
  }
 ],
 "metadata": {
  "language_info": {
   "name": "python"
  }
 },
 "nbformat": 4,
 "nbformat_minor": 5
}
